{
 "cells": [
  {
   "cell_type": "code",
   "execution_count": 3,
   "metadata": {},
   "outputs": [],
   "source": [
    "using DifferentialEquations\n",
    "using Plots\n"
   ]
  },
  {
   "cell_type": "code",
   "execution_count": 16,
   "metadata": {},
   "outputs": [
    {
     "data": {
      "text/plain": [
       "\"c:\\\\work\\\\study\\\\labs\\\\lab07\\\\report\\\\image\\\\JLab71.png\""
      ]
     },
     "metadata": {},
     "output_type": "display_data"
    }
   ],
   "source": [
    "N=500\n",
    "n=5\n",
    "\n",
    "u0=[n]\n",
    "t0=0\n",
    "tmax=30\n",
    "tspan=(t0,tmax)\n",
    "\n",
    "function F(du, u, p, t)\n",
    "    du[1]=(0.55+0.0001*u[1])*(N-u[1])\n",
    "end\n",
    "\n",
    "prob=ODEProblem(F, u0, tspan)\n",
    "sol=solve(prob)\n",
    "\n",
    "plot(sol, title= \"Эффективность рекламы №1\", lab=\"n(t)\", linewidth=2)\n",
    "\n",
    "savefig(\"../report/image/JLab71.png\")"
   ]
  },
  {
   "cell_type": "code",
   "execution_count": 17,
   "metadata": {},
   "outputs": [
    {
     "data": {
      "text/plain": [
       "\"c:\\\\work\\\\study\\\\labs\\\\lab07\\\\report\\\\image\\\\JLab72.png\""
      ]
     },
     "metadata": {},
     "output_type": "display_data"
    }
   ],
   "source": [
    "N=500\n",
    "n=5\n",
    "\n",
    "u0=[n]\n",
    "t0=0\n",
    "tmax=1\n",
    "tspan=(t0,tmax)\n",
    "\n",
    "function F(du, u, p, t)\n",
    "    du[1]=(0.00005+0.2*u[1])*(N-u[1])\n",
    "end\n",
    "\n",
    "prob=ODEProblem(F, u0, tspan)\n",
    "sol=solve(prob)\n",
    "\n",
    "plot(sol, title= \"Эффективность рекламы №2\", lab=\"n(t)\", linewidth=2)\n",
    "savefig(\"../report/image/JLab72.png\")"
   ]
  },
  {
   "cell_type": "code",
   "execution_count": 18,
   "metadata": {},
   "outputs": [
    {
     "data": {
      "text/plain": [
       "\"c:\\\\work\\\\study\\\\labs\\\\lab07\\\\report\\\\image\\\\JLab73.png\""
      ]
     },
     "metadata": {},
     "output_type": "display_data"
    }
   ],
   "source": [
    "N=500\n",
    "n=5\n",
    "\n",
    "u0=[n]\n",
    "t0=0\n",
    "tmax=1\n",
    "tspan=(t0,tmax)\n",
    "\n",
    "function F(du, u, p, t)\n",
    "    du[1]=(0.5*sin(t)+0.3*cos(t)*u[1])*(N-u[1])\n",
    "end\n",
    "\n",
    "prob=ODEProblem(F, u0, tspan)\n",
    "sol=solve(prob)\n",
    "\n",
    "plot(sol, title= \"Эффективность рекламы №3\", lab=\"n(t)\", linewidth=2)\n",
    "savefig(\"../report/image/JLab73.png\")"
   ]
  }
 ],
 "metadata": {
  "kernelspec": {
   "display_name": "Julia 1.8.5",
   "language": "julia",
   "name": "julia-1.8"
  },
  "language_info": {
   "file_extension": ".jl",
   "mimetype": "application/julia",
   "name": "julia",
   "version": "1.8.5"
  },
  "orig_nbformat": 4
 },
 "nbformat": 4,
 "nbformat_minor": 2
}
