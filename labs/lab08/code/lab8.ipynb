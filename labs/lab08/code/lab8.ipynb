{
 "cells": [
  {
   "cell_type": "code",
   "execution_count": 1,
   "metadata": {},
   "outputs": [],
   "source": [
    "using DifferentialEquations\n",
    "using Plots\n"
   ]
  },
  {
   "cell_type": "code",
   "execution_count": 7,
   "metadata": {},
   "outputs": [
    {
     "data": {
      "text/plain": [
       "\"c:\\\\work\\\\study\\\\labs\\\\lab08\\\\report\\\\image\\\\Jlab81.png\""
      ]
     },
     "metadata": {},
     "output_type": "display_data"
    }
   ],
   "source": [
    "p_cr = 15\n",
    "tau1= 11\n",
    "tau2=14\n",
    "p1=8\n",
    "p2=6\n",
    "q=1\n",
    "N=17\n",
    "\n",
    "d=0.001\n",
    "M1=2.5\n",
    "M2=1.5\n",
    "u0=[M1, M2]\n",
    "a1 = p_cr/(tau1*tau1*p1*p1*N*q)\n",
    "a2 = p_cr/(tau2*tau2*p2*p2*N*q)\n",
    "b = p_cr/(tau1*tau1*tau2*tau2*p1*p1*p2*p2*N*q)\n",
    "c1 = (p_cr-p1)/(tau1*p1)\n",
    "c2 = (p_cr-p2)/(tau2*p2)\n",
    "\n",
    "function F(dm, m, p, t)\n",
    "    dm[1]=m[1]-(b/c1)*m[1]*m[2]-(a1/c1)*m[1]*m[1]\n",
    "    dm[2]=(c2/c1)*m[2]-(b/c1)*m[1]*m[2]-(a2/c1)*m[2]*m[2]\n",
    "end\n",
    "\n",
    "tspan = (0.0, 30.0)\n",
    "prob = ODEProblem(F, u0, tspan)\n",
    "sol = solve(prob, Tsit5(), reltol=1e-8, abstol=1e-8)\n",
    "plot(\n",
    "    sol, \n",
    "    title=\"Lab 8\", \n",
    "    xlabel=\"t\", \n",
    "    ylabel=\"m\", \n",
    "    label=[\"m1\" \"m2\"]\n",
    ")\n",
    "\n",
    "savefig(\"../report/image/Jlab81.png\")"
   ]
  },
  {
   "cell_type": "code",
   "execution_count": 6,
   "metadata": {},
   "outputs": [
    {
     "data": {
      "text/plain": [
       "\"c:\\\\work\\\\study\\\\labs\\\\lab08\\\\report\\\\image\\\\Jlab82.png\""
      ]
     },
     "metadata": {},
     "output_type": "display_data"
    }
   ],
   "source": [
    "function F(dm, m, p, t)\n",
    "    dm[1]=m[1]-((b/c1)+0.001)*m[1]*m[2]-(a1/c1)*m[1]*m[1]\n",
    "    dm[2]=(c2/c1)*m[2]-(b/c1)*m[1]*m[2]-(a2/c1)*m[2]*m[2]\n",
    "end\n",
    "\n",
    "tspan = (0.0, 30.0)\n",
    "prob = ODEProblem(F, u0, tspan)\n",
    "sol = solve(prob, Tsit5(), reltol=1e-8, abstol=1e-8)\n",
    "plot(\n",
    "    sol, \n",
    "    title=\"Lab 8\", \n",
    "    xlabel=\"t\", \n",
    "    ylabel=\"m\", \n",
    "    label=[\"m1\" \"m2\"]\n",
    ")\n",
    "savefig(\"../report/image/Jlab82.png\")"
   ]
  }
 ],
 "metadata": {
  "kernelspec": {
   "display_name": "Julia 1.8.5",
   "language": "julia",
   "name": "julia-1.8"
  },
  "language_info": {
   "file_extension": ".jl",
   "mimetype": "application/julia",
   "name": "julia",
   "version": "1.8.5"
  },
  "orig_nbformat": 4
 },
 "nbformat": 4,
 "nbformat_minor": 2
}
